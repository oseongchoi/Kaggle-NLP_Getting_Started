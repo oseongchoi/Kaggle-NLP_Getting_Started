{
 "cells": [
  {
   "cell_type": "markdown",
   "metadata": {},
   "source": [
    "##### Load modules"
   ]
  },
  {
   "cell_type": "code",
   "execution_count": 1,
   "metadata": {},
   "outputs": [],
   "source": [
    "import re\n",
    "import numpy as np\n",
    "import pandas as pd\n",
    "import matplotlib.pyplot as plt\n",
    "import seaborn as sns\n",
    "import tensorflow as tf\n",
    "import tensorflow.keras as keras\n",
    "import tensorflow.keras.backend as K\n",
    "from sklearn.metrics import f1_score\n",
    "from sklearn.metrics import confusion_matrix\n",
    "from sklearn.metrics import ConfusionMatrixDisplay"
   ]
  },
  {
   "cell_type": "markdown",
   "metadata": {},
   "source": [
    "##### Load and preprocess data"
   ]
  },
  {
   "cell_type": "code",
   "execution_count": 2,
   "metadata": {},
   "outputs": [],
   "source": [
    "df_train = pd.read_csv('train.csv')\n",
    "df_train['text'] = [f'{t} EOT {k}' for idx, (t, k) in df_train[['text', 'keyword']].iterrows()]\n",
    "df_train = df_train[['text', 'target']]"
   ]
  },
  {
   "cell_type": "markdown",
   "metadata": {},
   "source": [
    "##### Split train/valid/test"
   ]
  },
  {
   "cell_type": "code",
   "execution_count": 3,
   "metadata": {},
   "outputs": [],
   "source": [
    "def sample_from_dataframe(df, n_sample):\n",
    "    params = {'n': n_sample, 'random_state': 0}\n",
    "\n",
    "    where = df.target == 0\n",
    "    df_sample = df[where].sample(**params)\n",
    "\n",
    "    where = df.target == 1\n",
    "    df_sample = pd.concat([df_sample, df[where].sample(**params)])\n",
    "\n",
    "    return df.drop(index=df_sample.index), df_sample"
   ]
  },
  {
   "cell_type": "code",
   "execution_count": 4,
   "metadata": {},
   "outputs": [],
   "source": [
    "df_train, df_valid = sample_from_dataframe(df_train, 500)\n",
    "df_train, df_test = sample_from_dataframe(df_train, 200)"
   ]
  },
  {
   "cell_type": "code",
   "execution_count": 5,
   "metadata": {},
   "outputs": [
    {
     "data": {
      "text/plain": [
       "((6213, 2), (1000, 2), (400, 2))"
      ]
     },
     "execution_count": 5,
     "metadata": {},
     "output_type": "execute_result"
    }
   ],
   "source": [
    "df_train.shape, df_valid.shape, df_test.shape"
   ]
  },
  {
   "cell_type": "markdown",
   "metadata": {},
   "source": [
    "##### Tokenize text"
   ]
  },
  {
   "cell_type": "code",
   "execution_count": 6,
   "metadata": {},
   "outputs": [],
   "source": [
    "def text_to_seq(tokenizer, df):\n",
    "    seqs = tokenizer.texts_to_sequences(df.text)\n",
    "    x = keras.preprocessing.sequence.pad_sequences(seqs)\n",
    "    y = df.target.values\n",
    "    return x, y"
   ]
  },
  {
   "cell_type": "code",
   "execution_count": 7,
   "metadata": {},
   "outputs": [],
   "source": [
    "tokenizer = keras.preprocessing.text.Tokenizer()\n",
    "tokenizer.fit_on_texts(df_train.text)\n",
    "\n",
    "x_train, y_train = text_to_seq(tokenizer, df_train)\n",
    "x_valid, y_valid = text_to_seq(tokenizer, df_valid)\n",
    "x_test, y_test = text_to_seq(tokenizer, df_test)"
   ]
  },
  {
   "cell_type": "code",
   "execution_count": 8,
   "metadata": {},
   "outputs": [
    {
     "data": {
      "text/plain": [
       "((6213, 35), (6213,), (1000, 31), (1000,), (400, 33), (400,))"
      ]
     },
     "execution_count": 8,
     "metadata": {},
     "output_type": "execute_result"
    }
   ],
   "source": [
    "x_train.shape, y_train.shape, x_valid.shape, y_valid.shape, x_test.shape, y_test.shape"
   ]
  },
  {
   "cell_type": "markdown",
   "metadata": {},
   "source": [
    "##### Build and train a network"
   ]
  },
  {
   "cell_type": "code",
   "execution_count": 9,
   "metadata": {},
   "outputs": [],
   "source": [
    "def build(n_words):\n",
    "    params = {\n",
    "        'dropout': 0.5,\n",
    "        'recurrent_dropout': 0.5,\n",
    "    }\n",
    "\n",
    "    K.clear_session()\n",
    "\n",
    "    inputs = keras.layers.Input(shape=(None, ))\n",
    "    prev = keras.layers.Embedding(n_words, 64, mask_zero=True)(inputs)\n",
    "    prev = keras.layers.LSTM(64, return_sequences=True, **params)(prev)\n",
    "    prev = keras.layers.LSTM(64, return_sequences=True, **params)(prev)\n",
    "    prev = keras.layers.LSTM(64, **params)(prev)\n",
    "    outputs = keras.layers.Dense(1, activation='sigmoid', kernel_regularizer='l2')(prev)\n",
    "\n",
    "    model = keras.models.Model(inputs, outputs)\n",
    "    \n",
    "    return model"
   ]
  },
  {
   "cell_type": "code",
   "execution_count": 10,
   "metadata": {},
   "outputs": [
    {
     "name": "stdout",
     "output_type": "stream",
     "text": [
      "Train on 6213 samples, validate on 1000 samples\n",
      "Epoch 1/20\n",
      "6213/6213 [==============================] - 10s 2ms/sample - loss: 0.6464 - accuracy: 0.6588 - val_loss: 0.5319 - val_accuracy: 0.7700\n",
      "Epoch 2/20\n",
      "6213/6213 [==============================] - 3s 500us/sample - loss: 0.4757 - accuracy: 0.8099 - val_loss: 0.4828 - val_accuracy: 0.7880\n",
      "Epoch 3/20\n",
      "6213/6213 [==============================] - 3s 498us/sample - loss: 0.3791 - accuracy: 0.8553 - val_loss: 0.5604 - val_accuracy: 0.7640\n",
      "Epoch 4/20\n",
      "6213/6213 [==============================] - 3s 486us/sample - loss: 0.3125 - accuracy: 0.8894 - val_loss: 0.5180 - val_accuracy: 0.7910\n",
      "Epoch 5/20\n",
      "6213/6213 [==============================] - 3s 515us/sample - loss: 0.2734 - accuracy: 0.9044 - val_loss: 0.5384 - val_accuracy: 0.7830\n",
      "Epoch 6/20\n",
      "6213/6213 [==============================] - 3s 518us/sample - loss: 0.2284 - accuracy: 0.9227 - val_loss: 0.6362 - val_accuracy: 0.7710\n",
      "Epoch 7/20\n",
      "6213/6213 [==============================] - 3s 503us/sample - loss: 0.2075 - accuracy: 0.9322 - val_loss: 0.6021 - val_accuracy: 0.7780\n"
     ]
    },
    {
     "data": {
      "image/png": "[encoded data removed]",
      "text/plain": [
       "<Figure size 1440x360 with 2 Axes>"
      ]
     },
     "metadata": {
      "needs_background": "light"
     },
     "output_type": "display_data"
    }
   ],
   "source": [
    "optimizer = keras.optimizers.RMSprop()\n",
    "earlystop = keras.callbacks.EarlyStopping(patience=5, restore_best_weights=True)\n",
    "\n",
    "model = build(np.max(x_train) + 1)\n",
    "model.compile(optimizer=optimizer, loss='binary_crossentropy', metrics=['accuracy'])\n",
    "hist = model.fit(x_train, y_train, validation_data=(x_valid, y_valid), batch_size=256, epochs=20, callbacks=[earlystop])\n",
    "\n",
    "plt.figure(figsize=[20, 5])\n",
    "\n",
    "plt.subplot(1, 2, 1)\n",
    "plt.plot(hist.history['loss'])\n",
    "plt.plot(hist.history['val_loss'])\n",
    "\n",
    "plt.subplot(1, 2, 2)\n",
    "plt.plot(hist.history['accuracy'])\n",
    "plt.plot(hist.history['val_accuracy'])\n",
    "\n",
    "plt.show()"
   ]
  },
  {
   "cell_type": "markdown",
   "metadata": {},
   "source": [
    "##### Evaluate on validation / test set"
   ]
  },
  {
   "cell_type": "code",
   "execution_count": 11,
   "metadata": {},
   "outputs": [],
   "source": [
    "def evaluate(y_true, y_pred):\n",
    "    f1 = f1_score(y_true, y_pred) * 100\n",
    "    print(f'f1_score is {f1:.2f}')\n",
    "    print()\n",
    "    \n",
    "    cm = confusion_matrix(y_true, y_pred)\n",
    "    cm = cm / y_true.shape[0] * 2\n",
    "    ConfusionMatrixDisplay(cm, ['0', '1']).plot()\n",
    "    plt.show()"
   ]
  },
  {
   "cell_type": "code",
   "execution_count": 12,
   "metadata": {},
   "outputs": [
    {
     "name": "stdout",
     "output_type": "stream",
     "text": [
      "f1_score is 76.02\n",
      "\n"
     ]
    },
    {
     "data": {
      "image/png": "[encoded data removed]",
      "text/plain": [
       "<Figure size 432x288 with 2 Axes>"
      ]
     },
     "metadata": {
      "needs_background": "light"
     },
     "output_type": "display_data"
    }
   ],
   "source": [
    "y_hat = model.predict(x_valid, batch_size=512)\n",
    "y_pred = y_hat >= 0.5\n",
    "evaluate(y_valid, y_pred)"
   ]
  },
  {
   "cell_type": "code",
   "execution_count": 13,
   "metadata": {},
   "outputs": [
    {
     "name": "stdout",
     "output_type": "stream",
     "text": [
      "f1_score is 77.56\n",
      "\n"
     ]
    },
    {
     "data": {
      "image/png": "[encoded data removed]",
      "text/plain": [
       "<Figure size 432x288 with 2 Axes>"
      ]
     },
     "metadata": {
      "needs_background": "light"
     },
     "output_type": "display_data"
    }
   ],
   "source": [
    "y_hat = model.predict(x_test, batch_size=512)\n",
    "y_pred = y_hat >= 0.5\n",
    "evaluate(y_test, y_pred)"
   ]
  },
  {
   "cell_type": "markdown",
   "metadata": {},
   "source": [
    "##### Error diagnosis"
   ]
  },
  {
   "cell_type": "code",
   "execution_count": 14,
   "metadata": {},
   "outputs": [
    {
     "data": {
      "text/html": [
       "<div>\n",
       "<style scoped>\n",
       "    .dataframe tbody tr th:only-of-type {\n",
       "        vertical-align: middle;\n",
       "    }\n",
       "\n",
       "    .dataframe tbody tr th {\n",
       "        vertical-align: top;\n",
       "    }\n",
       "\n",
       "    .dataframe thead th {\n",
       "        text-align: right;\n",
       "    }\n",
       "</style>\n",
       "<table border=\"1\" class=\"dataframe\">\n",
       "  <thead>\n",
       "    <tr style=\"text-align: right;\">\n",
       "      <th></th>\n",
       "      <th>text</th>\n",
       "      <th>target</th>\n",
       "      <th>error</th>\n",
       "      <th>seq</th>\n",
       "    </tr>\n",
       "  </thead>\n",
       "  <tbody>\n",
       "    <tr>\n",
       "      <th>2362</th>\n",
       "      <td>7 Christians detained in Zhejiang amid widespread anger over cross removal- over 1200 crosses removed since last yr http://t.co/8PICbkDJM0 EOT demolition</td>\n",
       "      <td>0</td>\n",
       "      <td>0.953153</td>\n",
       "      <td>7 christians detained in amid widespread anger over cross removal over 1200 crosses removed since last yr http t co eot demolition</td>\n",
       "    </tr>\n",
       "    <tr>\n",
       "      <th>167</th>\n",
       "      <td>Statistically I'm at more of risk of getting killed by a cop than I am of dying in an airplane accident. EOT airplane%20accident</td>\n",
       "      <td>0</td>\n",
       "      <td>0.940323</td>\n",
       "      <td>i'm at more of risk of getting killed by a cop than i am of dying in an airplane accident eot airplane 20accident</td>\n",
       "    </tr>\n",
       "    <tr>\n",
       "      <th>3806</th>\n",
       "      <td>Former Township fire truck being used in Philippines - Langley Times http://t.co/iMiLsFxntf #filipino EOT fire%20truck</td>\n",
       "      <td>0</td>\n",
       "      <td>0.934278</td>\n",
       "      <td>former township fire truck being used in philippines langley times http t co eot fire 20truck</td>\n",
       "    </tr>\n",
       "    <tr>\n",
       "      <th>4348</th>\n",
       "      <td>Bayelsa poll: Tension in Bayelsa as Patience Jonathan plans to hijack APC PDP: Plans by former First Lady and... http://t.co/3eJL9lZlCH EOT hijack</td>\n",
       "      <td>0</td>\n",
       "      <td>0.931917</td>\n",
       "      <td>bayelsa poll tension in bayelsa as patience jonathan plans to hijack apc pdp plans by former first lady and http t co eot hijack</td>\n",
       "    </tr>\n",
       "    <tr>\n",
       "      <th>1029</th>\n",
       "      <td>BREAKING: Fairfax County firefighter placed on admin leave amid probe into Facebook post about putting police in 'body bags' dept. says. EOT body%20bags</td>\n",
       "      <td>0</td>\n",
       "      <td>0.927378</td>\n",
       "      <td>breaking county firefighter on admin leave amid probe into facebook post about putting police in 'body dept says eot body 20bags</td>\n",
       "    </tr>\n",
       "    <tr>\n",
       "      <th>1005</th>\n",
       "      <td>'I did another one I did another one. You still ain't done shit about the other one.' Nigga body bagging Meek. EOT body%20bagging</td>\n",
       "      <td>1</td>\n",
       "      <td>0.918874</td>\n",
       "      <td>'i did another one i did another one you still ain't done shit about the other one ' nigga body bagging meek eot body 20bagging</td>\n",
       "    </tr>\n",
       "    <tr>\n",
       "      <th>974</th>\n",
       "      <td>?? New Ladies Shoulder Tote #Handbag Faux Leather Hobo Purse Cross Body Bag #Womens http://t.co/zujwUiomb3 http://t.co/iap4LwvqsW EOT body%20bag</td>\n",
       "      <td>1</td>\n",
       "      <td>0.916632</td>\n",
       "      <td>new ladies shoulder tote handbag faux leather hobo purse cross body bag womens http t co zujwuiomb3 http t co eot body 20bag</td>\n",
       "    </tr>\n",
       "    <tr>\n",
       "      <th>4143</th>\n",
       "      <td>@leedsrouge Love what you picked! We're playing WORTH IT by FIFTH HARM/KID INK because of you! Listen &amp;amp; Vote: http://t.co/0wrATkA2jL EOT harm</td>\n",
       "      <td>1</td>\n",
       "      <td>0.906667</td>\n",
       "      <td>love what you picked we're playing worth it by fifth harm kid ink because of you listen amp vote http t co 0wratka2jl eot harm</td>\n",
       "    </tr>\n",
       "    <tr>\n",
       "      <th>6108</th>\n",
       "      <td>Do you feel like you are sinking in low self-image? Take the quiz: http://t.co/bJoJVM0pjX http://t.co/wHOc7LHb5F EOT sinking</td>\n",
       "      <td>1</td>\n",
       "      <td>0.904890</td>\n",
       "      <td>do you feel like you are sinking in low self image take the quiz http t co http t co eot sinking</td>\n",
       "    </tr>\n",
       "    <tr>\n",
       "      <th>4618</th>\n",
       "      <td>CLEARED:incident with injury:I-495  inner loop Exit 31 - MD 97/Georgia Ave Silver Spring EOT injury</td>\n",
       "      <td>0</td>\n",
       "      <td>0.901556</td>\n",
       "      <td>cleared incident with injury i 495 inner loop exit 31 md 97 georgia ave silver spring eot injury</td>\n",
       "    </tr>\n",
       "    <tr>\n",
       "      <th>2250</th>\n",
       "      <td>Why are you deluged with low self-image? Take the quiz: http://t.co/XsPqdOrIqj http://t.co/CQYvFR4UCy EOT deluged</td>\n",
       "      <td>1</td>\n",
       "      <td>0.898669</td>\n",
       "      <td>why are you deluged with low self image take the quiz http t co http t co eot deluged</td>\n",
       "    </tr>\n",
       "    <tr>\n",
       "      <th>4661</th>\n",
       "      <td>@LEDofficial1 As you can imagine we're inundated with requests each week for samples &amp;amp; as much as we'd love to be able to send sweets 1/2 EOT inundated</td>\n",
       "      <td>1</td>\n",
       "      <td>0.894624</td>\n",
       "      <td>as you can imagine we're inundated with each week for amp as much as we'd love to be able to send 1 2 eot inundated</td>\n",
       "    </tr>\n",
       "    <tr>\n",
       "      <th>4746</th>\n",
       "      <td>dogs Lightning reshapes rocks at the atomic level - A lightning strike can reshape a mineral's crystal structure ... http://t.co/2Wvmij5SA4 EOT lightning</td>\n",
       "      <td>0</td>\n",
       "      <td>0.893997</td>\n",
       "      <td>dogs lightning rocks at the atomic level a lightning strike can a structure http t co eot lightning</td>\n",
       "    </tr>\n",
       "    <tr>\n",
       "      <th>2511</th>\n",
       "      <td>Just came back from camping and returned with a new song which gets recorded tomorrow. Can't wait! #Desolation #TheConspiracyTheory #NewEP EOT desolation</td>\n",
       "      <td>1</td>\n",
       "      <td>0.890468</td>\n",
       "      <td>just came back from camping and with a new song which gets recorded tomorrow can't wait desolation eot desolation</td>\n",
       "    </tr>\n",
       "    <tr>\n",
       "      <th>4609</th>\n",
       "      <td>My prediction for the Vikings game this Sunday....dont expect a whole lot. Infact I think Zimmer goal is....injury free 1st game EOT injury</td>\n",
       "      <td>1</td>\n",
       "      <td>0.889441</td>\n",
       "      <td>my for the game this sunday dont expect a whole lot i think goal is injury free 1st game eot injury</td>\n",
       "    </tr>\n",
       "    <tr>\n",
       "      <th>719</th>\n",
       "      <td>you can stab me in the back but I promise you'll be the one bleeding EOT bleeding</td>\n",
       "      <td>1</td>\n",
       "      <td>0.885035</td>\n",
       "      <td>you can stab me in the back but i promise you'll be the one bleeding eot bleeding</td>\n",
       "    </tr>\n",
       "    <tr>\n",
       "      <th>552</th>\n",
       "      <td>Indeed!! I am fully aware of that battle! I support you in that fight!!  https://t.co/MctJnZX4H8 EOT battle</td>\n",
       "      <td>1</td>\n",
       "      <td>0.883693</td>\n",
       "      <td>indeed i am fully aware of that battle i support you in that fight https t co eot battle</td>\n",
       "    </tr>\n",
       "    <tr>\n",
       "      <th>5219</th>\n",
       "      <td>@ThatSabineGirl you get me sis. this planet could do with a huge dose of obliteration. EOT obliteration</td>\n",
       "      <td>1</td>\n",
       "      <td>0.876230</td>\n",
       "      <td>you get me sis this planet could do with a huge of obliteration eot obliteration</td>\n",
       "    </tr>\n",
       "    <tr>\n",
       "      <th>4536</th>\n",
       "      <td>#WakeUpFlorida... #Floridians more likely to be killed/injured by a #TrophyHunt killer's gun than by ISIS.  https://t.co/j5In8meXAJ EOT injured</td>\n",
       "      <td>0</td>\n",
       "      <td>0.874952</td>\n",
       "      <td>more likely to be killed injured by a gun than by isis https t co eot injured</td>\n",
       "    </tr>\n",
       "    <tr>\n",
       "      <th>1321</th>\n",
       "      <td>@Michael5SOS haha so would you say its so hot your balls are burning off???? EOT burning</td>\n",
       "      <td>1</td>\n",
       "      <td>0.873961</td>\n",
       "      <td>michael5sos haha so would you say its so hot your balls are burning off eot burning</td>\n",
       "    </tr>\n",
       "    <tr>\n",
       "      <th>857</th>\n",
       "      <td>people with a #tattoo out there.. Are u allowed to donate blood and receive blood as well or not? EOT blood</td>\n",
       "      <td>1</td>\n",
       "      <td>0.871012</td>\n",
       "      <td>people with a tattoo out there are u allowed to donate blood and receive blood as well or not eot blood</td>\n",
       "    </tr>\n",
       "    <tr>\n",
       "      <th>2269</th>\n",
       "      <td>Rand Paul's Debate Strategy 'demolish Some other bad ideas out there or point out maybe that there are some em... http://t.co/qzdqRBr4Lh EOT demolish</td>\n",
       "      <td>1</td>\n",
       "      <td>0.869231</td>\n",
       "      <td>debate strategy 'demolish some other bad ideas out there or point out maybe that there are some em http t co eot demolish</td>\n",
       "    </tr>\n",
       "    <tr>\n",
       "      <th>6180</th>\n",
       "      <td>@TravelElixir Any idea what's going on? I hear no sirens but this damn helo is flying so low my apt is shaking! EOT sirens</td>\n",
       "      <td>1</td>\n",
       "      <td>0.865278</td>\n",
       "      <td>any idea what's going on i hear no sirens but this damn is flying so low my apt is shaking eot sirens</td>\n",
       "    </tr>\n",
       "    <tr>\n",
       "      <th>6930</th>\n",
       "      <td>@cspan #Prez. Mr. President you are the biggest terrorist and trouble maker in the world. You create terrorist you sponsor terrorist. EOT trouble</td>\n",
       "      <td>1</td>\n",
       "      <td>0.864849</td>\n",
       "      <td>prez mr president you are the biggest terrorist and trouble maker in the world you create terrorist you terrorist eot trouble</td>\n",
       "    </tr>\n",
       "    <tr>\n",
       "      <th>3850</th>\n",
       "      <td>@gilderoy i wish i was good enough to add flames to my nails im on fire EOT flames</td>\n",
       "      <td>1</td>\n",
       "      <td>0.857239</td>\n",
       "      <td>i wish i was good enough to add flames to my nails im on fire eot flames</td>\n",
       "    </tr>\n",
       "    <tr>\n",
       "      <th>7167</th>\n",
       "      <td>#WorldWatchesFerguson #Florida @GovJayNixon @clairecmc How dare you turn our streets into a war zone -a war against CITIZENS? EOT war%20zone</td>\n",
       "      <td>1</td>\n",
       "      <td>0.856057</td>\n",
       "      <td>florida how dare you turn our streets into a war zone a war against citizens eot war 20zone</td>\n",
       "    </tr>\n",
       "    <tr>\n",
       "      <th>3505</th>\n",
       "      <td>For those that were interested in the gun powder art discussed at the end of 'Introduction to Theological Aesthetic' http://t.co/BZ3iR4GMWj EOT explosion</td>\n",
       "      <td>0</td>\n",
       "      <td>0.853795</td>\n",
       "      <td>for those that were interested in the gun art at the end of to theological http t co eot explosion</td>\n",
       "    </tr>\n",
       "    <tr>\n",
       "      <th>356</th>\n",
       "      <td>But if you build an army of 100 dogs and their leader is a lion all dogs will fight like a lion. EOT army</td>\n",
       "      <td>1</td>\n",
       "      <td>0.851181</td>\n",
       "      <td>but if you build an army of 100 dogs and their leader is a lion all dogs will fight like a lion eot army</td>\n",
       "    </tr>\n",
       "    <tr>\n",
       "      <th>3409</th>\n",
       "      <td>Is he about to crash?\\nDid the Queen die?\\nDid something explode? \\nWho knows. http://t.co/LThMwtl5fP EOT explode</td>\n",
       "      <td>1</td>\n",
       "      <td>0.849099</td>\n",
       "      <td>is he about to crash did the queen die did something explode who knows http t co eot explode</td>\n",
       "    </tr>\n",
       "    <tr>\n",
       "      <th>2017</th>\n",
       "      <td>S61.231A Puncture wound without foreign body of left index finger without damage to nail initial encounter #icd10 EOT damage</td>\n",
       "      <td>1</td>\n",
       "      <td>0.846623</td>\n",
       "      <td>puncture wound without foreign body of left finger without damage to nail initial encounter eot damage</td>\n",
       "    </tr>\n",
       "  </tbody>\n",
       "</table>\n",
       "</div>"
      ],
      "text/plain": [
       "                                                                                                                                                             text  \\\n",
       "2362    7 Christians detained in Zhejiang amid widespread anger over cross removal- over 1200 crosses removed since last yr http://t.co/8PICbkDJM0 EOT demolition   \n",
       "167                              Statistically I'm at more of risk of getting killed by a cop than I am of dying in an airplane accident. EOT airplane%20accident   \n",
       "3806                                       Former Township fire truck being used in Philippines - Langley Times http://t.co/iMiLsFxntf #filipino EOT fire%20truck   \n",
       "4348           Bayelsa poll: Tension in Bayelsa as Patience Jonathan plans to hijack APC PDP: Plans by former First Lady and... http://t.co/3eJL9lZlCH EOT hijack   \n",
       "1029     BREAKING: Fairfax County firefighter placed on admin leave amid probe into Facebook post about putting police in 'body bags' dept. says. EOT body%20bags   \n",
       "1005                            'I did another one I did another one. You still ain't done shit about the other one.' Nigga body bagging Meek. EOT body%20bagging   \n",
       "974              ?? New Ladies Shoulder Tote #Handbag Faux Leather Hobo Purse Cross Body Bag #Womens http://t.co/zujwUiomb3 http://t.co/iap4LwvqsW EOT body%20bag   \n",
       "4143            @leedsrouge Love what you picked! We're playing WORTH IT by FIFTH HARM/KID INK because of you! Listen &amp; Vote: http://t.co/0wrATkA2jL EOT harm   \n",
       "6108                                 Do you feel like you are sinking in low self-image? Take the quiz: http://t.co/bJoJVM0pjX http://t.co/wHOc7LHb5F EOT sinking   \n",
       "4618                                                          CLEARED:incident with injury:I-495  inner loop Exit 31 - MD 97/Georgia Ave Silver Spring EOT injury   \n",
       "2250                                            Why are you deluged with low self-image? Take the quiz: http://t.co/XsPqdOrIqj http://t.co/CQYvFR4UCy EOT deluged   \n",
       "4661  @LEDofficial1 As you can imagine we're inundated with requests each week for samples &amp; as much as we'd love to be able to send sweets 1/2 EOT inundated   \n",
       "4746    dogs Lightning reshapes rocks at the atomic level - A lightning strike can reshape a mineral's crystal structure ... http://t.co/2Wvmij5SA4 EOT lightning   \n",
       "2511    Just came back from camping and returned with a new song which gets recorded tomorrow. Can't wait! #Desolation #TheConspiracyTheory #NewEP EOT desolation   \n",
       "4609                  My prediction for the Vikings game this Sunday....dont expect a whole lot. Infact I think Zimmer goal is....injury free 1st game EOT injury   \n",
       "719                                                                             you can stab me in the back but I promise you'll be the one bleeding EOT bleeding   \n",
       "552                                                   Indeed!! I am fully aware of that battle! I support you in that fight!!  https://t.co/MctJnZX4H8 EOT battle   \n",
       "5219                                                      @ThatSabineGirl you get me sis. this planet could do with a huge dose of obliteration. EOT obliteration   \n",
       "4536              #WakeUpFlorida... #Floridians more likely to be killed/injured by a #TrophyHunt killer's gun than by ISIS.  https://t.co/j5In8meXAJ EOT injured   \n",
       "1321                                                                     @Michael5SOS haha so would you say its so hot your balls are burning off???? EOT burning   \n",
       "857                                                   people with a #tattoo out there.. Are u allowed to donate blood and receive blood as well or not? EOT blood   \n",
       "2269        Rand Paul's Debate Strategy 'demolish Some other bad ideas out there or point out maybe that there are some em... http://t.co/qzdqRBr4Lh EOT demolish   \n",
       "6180                                   @TravelElixir Any idea what's going on? I hear no sirens but this damn helo is flying so low my apt is shaking! EOT sirens   \n",
       "6930            @cspan #Prez. Mr. President you are the biggest terrorist and trouble maker in the world. You create terrorist you sponsor terrorist. EOT trouble   \n",
       "3850                                                                           @gilderoy i wish i was good enough to add flames to my nails im on fire EOT flames   \n",
       "7167                 #WorldWatchesFerguson #Florida @GovJayNixon @clairecmc How dare you turn our streets into a war zone -a war against CITIZENS? EOT war%20zone   \n",
       "3505    For those that were interested in the gun powder art discussed at the end of 'Introduction to Theological Aesthetic' http://t.co/BZ3iR4GMWj EOT explosion   \n",
       "356                                                     But if you build an army of 100 dogs and their leader is a lion all dogs will fight like a lion. EOT army   \n",
       "3409                                            Is he about to crash?\\nDid the Queen die?\\nDid something explode? \\nWho knows. http://t.co/LThMwtl5fP EOT explode   \n",
       "2017                                 S61.231A Puncture wound without foreign body of left index finger without damage to nail initial encounter #icd10 EOT damage   \n",
       "\n",
       "      target     error  \\\n",
       "2362       0  0.953153   \n",
       "167        0  0.940323   \n",
       "3806       0  0.934278   \n",
       "4348       0  0.931917   \n",
       "1029       0  0.927378   \n",
       "1005       1  0.918874   \n",
       "974        1  0.916632   \n",
       "4143       1  0.906667   \n",
       "6108       1  0.904890   \n",
       "4618       0  0.901556   \n",
       "2250       1  0.898669   \n",
       "4661       1  0.894624   \n",
       "4746       0  0.893997   \n",
       "2511       1  0.890468   \n",
       "4609       1  0.889441   \n",
       "719        1  0.885035   \n",
       "552        1  0.883693   \n",
       "5219       1  0.876230   \n",
       "4536       0  0.874952   \n",
       "1321       1  0.873961   \n",
       "857        1  0.871012   \n",
       "2269       1  0.869231   \n",
       "6180       1  0.865278   \n",
       "6930       1  0.864849   \n",
       "3850       1  0.857239   \n",
       "7167       1  0.856057   \n",
       "3505       0  0.853795   \n",
       "356        1  0.851181   \n",
       "3409       1  0.849099   \n",
       "2017       1  0.846623   \n",
       "\n",
       "                                                                                                                                     seq  \n",
       "2362  7 christians detained in amid widespread anger over cross removal over 1200 crosses removed since last yr http t co eot demolition  \n",
       "167                    i'm at more of risk of getting killed by a cop than i am of dying in an airplane accident eot airplane 20accident  \n",
       "3806                                       former township fire truck being used in philippines langley times http t co eot fire 20truck  \n",
       "4348    bayelsa poll tension in bayelsa as patience jonathan plans to hijack apc pdp plans by former first lady and http t co eot hijack  \n",
       "1029    breaking county firefighter on admin leave amid probe into facebook post about putting police in 'body dept says eot body 20bags  \n",
       "1005     'i did another one i did another one you still ain't done shit about the other one ' nigga body bagging meek eot body 20bagging  \n",
       "974         new ladies shoulder tote handbag faux leather hobo purse cross body bag womens http t co zujwuiomb3 http t co eot body 20bag  \n",
       "4143      love what you picked we're playing worth it by fifth harm kid ink because of you listen amp vote http t co 0wratka2jl eot harm  \n",
       "6108                                    do you feel like you are sinking in low self image take the quiz http t co http t co eot sinking  \n",
       "4618                                    cleared incident with injury i 495 inner loop exit 31 md 97 georgia ave silver spring eot injury  \n",
       "2250                                               why are you deluged with low self image take the quiz http t co http t co eot deluged  \n",
       "4661                 as you can imagine we're inundated with each week for amp as much as we'd love to be able to send 1 2 eot inundated  \n",
       "4746                                 dogs lightning rocks at the atomic level a lightning strike can a structure http t co eot lightning  \n",
       "2511                   just came back from camping and with a new song which gets recorded tomorrow can't wait desolation eot desolation  \n",
       "4609                                 my for the game this sunday dont expect a whole lot i think goal is injury free 1st game eot injury  \n",
       "719                                                    you can stab me in the back but i promise you'll be the one bleeding eot bleeding  \n",
       "552                                             indeed i am fully aware of that battle i support you in that fight https t co eot battle  \n",
       "5219                                                    you get me sis this planet could do with a huge of obliteration eot obliteration  \n",
       "4536                                                       more likely to be killed injured by a gun than by isis https t co eot injured  \n",
       "1321                                                 michael5sos haha so would you say its so hot your balls are burning off eot burning  \n",
       "857                              people with a tattoo out there are u allowed to donate blood and receive blood as well or not eot blood  \n",
       "2269           debate strategy 'demolish some other bad ideas out there or point out maybe that there are some em http t co eot demolish  \n",
       "6180                               any idea what's going on i hear no sirens but this damn is flying so low my apt is shaking eot sirens  \n",
       "6930       prez mr president you are the biggest terrorist and trouble maker in the world you create terrorist you terrorist eot trouble  \n",
       "3850                                                            i wish i was good enough to add flames to my nails im on fire eot flames  \n",
       "7167                                         florida how dare you turn our streets into a war zone a war against citizens eot war 20zone  \n",
       "3505                                  for those that were interested in the gun art at the end of to theological http t co eot explosion  \n",
       "356                             but if you build an army of 100 dogs and their leader is a lion all dogs will fight like a lion eot army  \n",
       "3409                                        is he about to crash did the queen die did something explode who knows http t co eot explode  \n",
       "2017                              puncture wound without foreign body of left finger without damage to nail initial encounter eot damage  "
      ]
     },
     "execution_count": 14,
     "metadata": {},
     "output_type": "execute_result"
    }
   ],
   "source": [
    "pd.set_option('max_colwidth', 500)\n",
    "y_hat = model.predict(x_valid, batch_size=512)\n",
    "df_valid['error'] = np.abs(y_valid.reshape(-1) - y_hat.reshape(-1))\n",
    "df_valid['seq'] = tokenizer.sequences_to_texts(x_valid)\n",
    "df_valid.sort_values('error', ascending=False).head(30)"
   ]
  }
 ],
 "metadata": {
  "kernelspec": {
   "display_name": "Python 3",
   "language": "python",
   "name": "python3"
  },
  "language_info": {
   "codemirror_mode": {
    "name": "ipython",
    "version": 3
   },
   "file_extension": ".py",
   "mimetype": "text/x-python",
   "name": "python",
   "nbconvert_exporter": "python",
   "pygments_lexer": "ipython3",
   "version": "3.7.5"
  }
 },
 "nbformat": 4,
 "nbformat_minor": 4
}
