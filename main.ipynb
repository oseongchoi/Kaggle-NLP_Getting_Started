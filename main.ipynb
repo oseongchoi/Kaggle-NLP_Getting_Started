{
 "cells": [
  {
   "cell_type": "markdown",
   "metadata": {},
   "source": [
    "##### Load modules"
   ]
  },
  {
   "cell_type": "code",
   "execution_count": 1,
   "metadata": {},
   "outputs": [],
   "source": [
    "import re\n",
    "import numpy as np\n",
    "import pandas as pd\n",
    "import matplotlib.pyplot as plt\n",
    "import seaborn as sns\n",
    "import tensorflow as tf\n",
    "import tensorflow.keras as keras\n",
    "import tensorflow.keras.backend as K\n",
    "from sklearn.metrics import f1_score\n",
    "from sklearn.metrics import confusion_matrix\n",
    "from sklearn.metrics import ConfusionMatrixDisplay"
   ]
  },
  {
   "cell_type": "markdown",
   "metadata": {},
   "source": [
    "##### Load data"
   ]
  },
  {
   "cell_type": "code",
   "execution_count": 2,
   "metadata": {},
   "outputs": [],
   "source": [
    "df_train = pd.read_csv('train.csv')\n",
    "df_train = df_train[['text', 'target']]"
   ]
  },
  {
   "cell_type": "markdown",
   "metadata": {},
   "source": [
    "##### Split train/valid/test"
   ]
  },
  {
   "cell_type": "code",
   "execution_count": 3,
   "metadata": {},
   "outputs": [],
   "source": [
    "def sample_from_dataframe(df, n_sample):\n",
    "    params = {'n': n_sample, 'random_state': 0}\n",
    "\n",
    "    where = df.target == 0\n",
    "    df_sample = df[where].sample(**params)\n",
    "\n",
    "    where = df.target == 1\n",
    "    df_sample = pd.concat([df_sample, df[where].sample(**params)])\n",
    "\n",
    "    return df.drop(index=df_sample.index), df_sample"
   ]
  },
  {
   "cell_type": "code",
   "execution_count": 4,
   "metadata": {},
   "outputs": [],
   "source": [
    "df_train, df_valid = sample_from_dataframe(df_train, 500)\n",
    "df_train, df_test = sample_from_dataframe(df_train, 200)"
   ]
  },
  {
   "cell_type": "code",
   "execution_count": 5,
   "metadata": {},
   "outputs": [
    {
     "data": {
      "text/plain": [
       "((6213, 2), (1000, 2), (400, 2))"
      ]
     },
     "execution_count": 5,
     "metadata": {},
     "output_type": "execute_result"
    }
   ],
   "source": [
    "df_train.shape, df_valid.shape, df_test.shape"
   ]
  },
  {
   "cell_type": "markdown",
   "metadata": {},
   "source": [
    "##### Tokenize text"
   ]
  },
  {
   "cell_type": "code",
   "execution_count": 6,
   "metadata": {},
   "outputs": [],
   "source": [
    "def text_to_seq(tokenizer, df):\n",
    "    seqs = tokenizer.texts_to_sequences(df.text)\n",
    "    x = keras.preprocessing.sequence.pad_sequences(seqs)\n",
    "    y = df.target.values\n",
    "    return x, y"
   ]
  },
  {
   "cell_type": "code",
   "execution_count": 7,
   "metadata": {},
   "outputs": [],
   "source": [
    "tokenizer = keras.preprocessing.text.Tokenizer()\n",
    "tokenizer.fit_on_texts(df_train.text)\n",
    "\n",
    "x_train, y_train = text_to_seq(tokenizer, df_train)\n",
    "x_valid, y_valid = text_to_seq(tokenizer, df_valid)\n",
    "x_test, y_test = text_to_seq(tokenizer, df_test)"
   ]
  },
  {
   "cell_type": "code",
   "execution_count": 8,
   "metadata": {},
   "outputs": [
    {
     "data": {
      "text/plain": [
       "((6213, 32), (6213,), (1000, 29), (1000,), (400, 30), (400,))"
      ]
     },
     "execution_count": 8,
     "metadata": {},
     "output_type": "execute_result"
    }
   ],
   "source": [
    "x_train.shape, y_train.shape, x_valid.shape, y_valid.shape, x_test.shape, y_test.shape"
   ]
  },
  {
   "cell_type": "markdown",
   "metadata": {},
   "source": [
    "##### Build and train a network"
   ]
  },
  {
   "cell_type": "code",
   "execution_count": 9,
   "metadata": {},
   "outputs": [],
   "source": [
    "def build(n_words):\n",
    "    params = {\n",
    "        'dropout': 0.5,\n",
    "        'recurrent_dropout': 0.5,\n",
    "    }\n",
    "\n",
    "    K.clear_session()\n",
    "\n",
    "    inputs = keras.layers.Input(shape=(None, ))\n",
    "    prev = keras.layers.Embedding(n_words, 64, mask_zero=True)(inputs)\n",
    "    prev = keras.layers.LSTM(64, return_sequences=True, **params)(prev)\n",
    "    prev = keras.layers.LSTM(64, return_sequences=True, **params)(prev)\n",
    "    prev = keras.layers.LSTM(64, **params)(prev)\n",
    "    outputs = keras.layers.Dense(1, activation='sigmoid', kernel_regularizer='l2')(prev)\n",
    "\n",
    "    model = keras.models.Model(inputs, outputs)\n",
    "    \n",
    "    return model"
   ]
  },
  {
   "cell_type": "code",
   "execution_count": 10,
   "metadata": {},
   "outputs": [
    {
     "name": "stdout",
     "output_type": "stream",
     "text": [
      "Train on 6213 samples, validate on 1000 samples\n",
      "Epoch 1/20\n",
      "6213/6213 [==============================] - 10s 2ms/sample - loss: 0.6566 - accuracy: 0.6465 - val_loss: 0.5612 - val_accuracy: 0.7600\n",
      "Epoch 2/20\n",
      "6213/6213 [==============================] - 3s 465us/sample - loss: 0.4819 - accuracy: 0.8059 - val_loss: 0.5019 - val_accuracy: 0.7770\n",
      "Epoch 3/20\n",
      "6213/6213 [==============================] - 3s 467us/sample - loss: 0.3887 - accuracy: 0.8516 - val_loss: 0.4967 - val_accuracy: 0.7850\n",
      "Epoch 4/20\n",
      "6213/6213 [==============================] - 3s 467us/sample - loss: 0.3382 - accuracy: 0.8769 - val_loss: 0.5237 - val_accuracy: 0.7820\n",
      "Epoch 5/20\n",
      "6213/6213 [==============================] - 3s 464us/sample - loss: 0.2848 - accuracy: 0.9039 - val_loss: 0.5673 - val_accuracy: 0.7640\n",
      "Epoch 6/20\n",
      "6213/6213 [==============================] - 3s 462us/sample - loss: 0.2535 - accuracy: 0.9145 - val_loss: 0.5877 - val_accuracy: 0.7750\n",
      "Epoch 7/20\n",
      "6213/6213 [==============================] - 3s 464us/sample - loss: 0.2138 - accuracy: 0.9322 - val_loss: 0.6692 - val_accuracy: 0.7630\n",
      "Epoch 8/20\n",
      "6213/6213 [==============================] - 3s 471us/sample - loss: 0.1901 - accuracy: 0.9380 - val_loss: 0.6699 - val_accuracy: 0.7620\n"
     ]
    },
    {
     "data": {
      "image/png": "[encoded data removed]",
      "text/plain": [
       "<Figure size 1440x360 with 2 Axes>"
      ]
     },
     "metadata": {
      "needs_background": "light"
     },
     "output_type": "display_data"
    }
   ],
   "source": [
    "optimizer = keras.optimizers.RMSprop()\n",
    "earlystop = keras.callbacks.EarlyStopping(patience=5, restore_best_weights=True)\n",
    "\n",
    "model = build(np.max(x_train) + 1)\n",
    "model.compile(optimizer=optimizer, loss='binary_crossentropy', metrics=['accuracy'])\n",
    "hist = model.fit(x_train, y_train, validation_data=(x_valid, y_valid), batch_size=256, epochs=20, callbacks=[earlystop])\n",
    "\n",
    "plt.figure(figsize=[20, 5])\n",
    "\n",
    "plt.subplot(1, 2, 1)\n",
    "plt.plot(hist.history['loss'])\n",
    "plt.plot(hist.history['val_loss'])\n",
    "\n",
    "plt.subplot(1, 2, 2)\n",
    "plt.plot(hist.history['accuracy'])\n",
    "plt.plot(hist.history['val_accuracy'])\n",
    "\n",
    "plt.show()"
   ]
  },
  {
   "cell_type": "markdown",
   "metadata": {},
   "source": [
    "##### Evaluate on validation / test set"
   ]
  },
  {
   "cell_type": "code",
   "execution_count": 11,
   "metadata": {},
   "outputs": [],
   "source": [
    "def evaluate(y_true, y_pred):\n",
    "    f1 = f1_score(y_true, y_pred) * 100\n",
    "    print(f'f1_score is {f1:.2f}')\n",
    "    print()\n",
    "    \n",
    "    cm = confusion_matrix(y_true, y_pred)\n",
    "    cm = cm / y_true.shape[0] * 2\n",
    "    ConfusionMatrixDisplay(cm, ['0', '1']).plot()\n",
    "    plt.show()"
   ]
  },
  {
   "cell_type": "code",
   "execution_count": 12,
   "metadata": {},
   "outputs": [
    {
     "name": "stdout",
     "output_type": "stream",
     "text": [
      "f1_score is 75.98\n",
      "\n"
     ]
    },
    {
     "data": {
      "image/png": "[encoded data removed]",
      "text/plain": [
       "<Figure size 432x288 with 2 Axes>"
      ]
     },
     "metadata": {
      "needs_background": "light"
     },
     "output_type": "display_data"
    }
   ],
   "source": [
    "y_hat = model.predict(x_valid, batch_size=512)\n",
    "y_pred = y_hat >= 0.5\n",
    "evaluate(y_valid, y_pred)"
   ]
  },
  {
   "cell_type": "code",
   "execution_count": 13,
   "metadata": {},
   "outputs": [
    {
     "name": "stdout",
     "output_type": "stream",
     "text": [
      "f1_score is 77.87\n",
      "\n"
     ]
    },
    {
     "data": {
      "image/png": "[encoded data removed]",
      "text/plain": [
       "<Figure size 432x288 with 2 Axes>"
      ]
     },
     "metadata": {
      "needs_background": "light"
     },
     "output_type": "display_data"
    }
   ],
   "source": [
    "y_hat = model.predict(x_test, batch_size=512)\n",
    "y_pred = y_hat >= 0.5\n",
    "evaluate(y_test, y_pred)"
   ]
  },
  {
   "cell_type": "markdown",
   "metadata": {},
   "source": [
    "##### Error diagnosis"
   ]
  },
  {
   "cell_type": "code",
   "execution_count": 14,
   "metadata": {},
   "outputs": [
    {
     "data": {
      "text/html": [
       "<div>\n",
       "<style scoped>\n",
       "    .dataframe tbody tr th:only-of-type {\n",
       "        vertical-align: middle;\n",
       "    }\n",
       "\n",
       "    .dataframe tbody tr th {\n",
       "        vertical-align: top;\n",
       "    }\n",
       "\n",
       "    .dataframe thead th {\n",
       "        text-align: right;\n",
       "    }\n",
       "</style>\n",
       "<table border=\"1\" class=\"dataframe\">\n",
       "  <thead>\n",
       "    <tr style=\"text-align: right;\">\n",
       "      <th></th>\n",
       "      <th>text</th>\n",
       "      <th>target</th>\n",
       "      <th>error</th>\n",
       "      <th>seq</th>\n",
       "    </tr>\n",
       "  </thead>\n",
       "  <tbody>\n",
       "    <tr>\n",
       "      <th>4618</th>\n",
       "      <td>CLEARED:incident with injury:I-495  inner loop Exit 31 - MD 97/Georgia Ave Silver Spring</td>\n",
       "      <td>0</td>\n",
       "      <td>0.970072</td>\n",
       "      <td>cleared incident with injury i 495 inner loop exit 31 md 97 georgia ave silver spring</td>\n",
       "    </tr>\n",
       "    <tr>\n",
       "      <th>1823</th>\n",
       "      <td>@johndcgow heard this few days ago while driving and near crashed the car from laughing to much</td>\n",
       "      <td>0</td>\n",
       "      <td>0.964125</td>\n",
       "      <td>heard this few days ago while driving and near crashed the car from laughing to much</td>\n",
       "    </tr>\n",
       "    <tr>\n",
       "      <th>167</th>\n",
       "      <td>Statistically I'm at more of risk of getting killed by a cop than I am of dying in an airplane accident.</td>\n",
       "      <td>0</td>\n",
       "      <td>0.954907</td>\n",
       "      <td>i'm at more of risk of getting killed by a cop than i am of dying in an airplane accident</td>\n",
       "    </tr>\n",
       "    <tr>\n",
       "      <th>3017</th>\n",
       "      <td>6 Things Getting Caught in a Dust Storm &amp;amp; the Challenging Real Estate Market Have in Common (+ video): http://t.co/jf5Ft5cq9j</td>\n",
       "      <td>0</td>\n",
       "      <td>0.952935</td>\n",
       "      <td>6 things getting caught in a dust storm amp the real estate market have in common video http t co</td>\n",
       "    </tr>\n",
       "    <tr>\n",
       "      <th>974</th>\n",
       "      <td>?? New Ladies Shoulder Tote #Handbag Faux Leather Hobo Purse Cross Body Bag #Womens http://t.co/zujwUiomb3 http://t.co/iap4LwvqsW</td>\n",
       "      <td>1</td>\n",
       "      <td>0.948676</td>\n",
       "      <td>new ladies shoulder tote handbag faux leather hobo purse cross body bag womens http t co zujwuiomb3 http t co</td>\n",
       "    </tr>\n",
       "    <tr>\n",
       "      <th>6108</th>\n",
       "      <td>Do you feel like you are sinking in low self-image? Take the quiz: http://t.co/bJoJVM0pjX http://t.co/wHOc7LHb5F</td>\n",
       "      <td>1</td>\n",
       "      <td>0.944648</td>\n",
       "      <td>do you feel like you are sinking in low self image take the quiz http t co http t co</td>\n",
       "    </tr>\n",
       "    <tr>\n",
       "      <th>3806</th>\n",
       "      <td>Former Township fire truck being used in Philippines - Langley Times http://t.co/iMiLsFxntf #filipino</td>\n",
       "      <td>0</td>\n",
       "      <td>0.942627</td>\n",
       "      <td>former township fire truck being used in philippines langley times http t co</td>\n",
       "    </tr>\n",
       "    <tr>\n",
       "      <th>4143</th>\n",
       "      <td>@leedsrouge Love what you picked! We're playing WORTH IT by FIFTH HARM/KID INK because of you! Listen &amp;amp; Vote: http://t.co/0wrATkA2jL</td>\n",
       "      <td>1</td>\n",
       "      <td>0.940349</td>\n",
       "      <td>love what you picked we're playing worth it by fifth harm kid ink because of you listen amp vote http t co 0wratka2jl</td>\n",
       "    </tr>\n",
       "    <tr>\n",
       "      <th>2362</th>\n",
       "      <td>7 Christians detained in Zhejiang amid widespread anger over cross removal- over 1200 crosses removed since last yr http://t.co/8PICbkDJM0</td>\n",
       "      <td>0</td>\n",
       "      <td>0.939603</td>\n",
       "      <td>7 christians detained in amid widespread anger over cross removal over 1200 crosses removed since last yr http t co</td>\n",
       "    </tr>\n",
       "    <tr>\n",
       "      <th>2250</th>\n",
       "      <td>Why are you deluged with low self-image? Take the quiz: http://t.co/XsPqdOrIqj http://t.co/CQYvFR4UCy</td>\n",
       "      <td>1</td>\n",
       "      <td>0.938211</td>\n",
       "      <td>why are you deluged with low self image take the quiz http t co http t co</td>\n",
       "    </tr>\n",
       "    <tr>\n",
       "      <th>1005</th>\n",
       "      <td>'I did another one I did another one. You still ain't done shit about the other one.' Nigga body bagging Meek.</td>\n",
       "      <td>1</td>\n",
       "      <td>0.933888</td>\n",
       "      <td>'i did another one i did another one you still ain't done shit about the other one ' nigga body bagging meek</td>\n",
       "    </tr>\n",
       "    <tr>\n",
       "      <th>1029</th>\n",
       "      <td>BREAKING: Fairfax County firefighter placed on admin leave amid probe into Facebook post about putting police in 'body bags' dept. says.</td>\n",
       "      <td>0</td>\n",
       "      <td>0.930276</td>\n",
       "      <td>breaking county firefighter on admin leave amid probe into facebook post about putting police in 'body dept says</td>\n",
       "    </tr>\n",
       "    <tr>\n",
       "      <th>2511</th>\n",
       "      <td>Just came back from camping and returned with a new song which gets recorded tomorrow. Can't wait! #Desolation #TheConspiracyTheory #NewEP</td>\n",
       "      <td>1</td>\n",
       "      <td>0.926090</td>\n",
       "      <td>just came back from camping and with a new song which gets recorded tomorrow can't wait desolation</td>\n",
       "    </tr>\n",
       "    <tr>\n",
       "      <th>4661</th>\n",
       "      <td>@LEDofficial1 As you can imagine we're inundated with requests each week for samples &amp;amp; as much as we'd love to be able to send sweets 1/2</td>\n",
       "      <td>1</td>\n",
       "      <td>0.922996</td>\n",
       "      <td>as you can imagine we're inundated with each week for amp as much as we'd love to be able to send 1 2</td>\n",
       "    </tr>\n",
       "    <tr>\n",
       "      <th>356</th>\n",
       "      <td>But if you build an army of 100 dogs and their leader is a lion all dogs will fight like a lion.</td>\n",
       "      <td>1</td>\n",
       "      <td>0.919541</td>\n",
       "      <td>but if you build an army of 100 dogs and their leader is a lion all dogs will fight like a lion</td>\n",
       "    </tr>\n",
       "    <tr>\n",
       "      <th>2269</th>\n",
       "      <td>Rand Paul's Debate Strategy 'demolish Some other bad ideas out there or point out maybe that there are some em... http://t.co/qzdqRBr4Lh</td>\n",
       "      <td>1</td>\n",
       "      <td>0.918278</td>\n",
       "      <td>debate strategy 'demolish some other bad ideas out there or point out maybe that there are some em http t co</td>\n",
       "    </tr>\n",
       "    <tr>\n",
       "      <th>1625</th>\n",
       "      <td>Growth dries up for BHP Billiton as oil price collapse bites http://t.co/HQoD6v6DnC</td>\n",
       "      <td>0</td>\n",
       "      <td>0.916541</td>\n",
       "      <td>growth up for as oil price collapse bites http t co</td>\n",
       "    </tr>\n",
       "    <tr>\n",
       "      <th>4536</th>\n",
       "      <td>#WakeUpFlorida... #Floridians more likely to be killed/injured by a #TrophyHunt killer's gun than by ISIS.  https://t.co/j5In8meXAJ</td>\n",
       "      <td>0</td>\n",
       "      <td>0.914874</td>\n",
       "      <td>more likely to be killed injured by a gun than by isis https t co</td>\n",
       "    </tr>\n",
       "    <tr>\n",
       "      <th>7552</th>\n",
       "      <td>Israel wrecked my home. Now it wants my land. \\nhttps://t.co/g0r3ZR1nQj</td>\n",
       "      <td>1</td>\n",
       "      <td>0.913891</td>\n",
       "      <td>israel wrecked my home now it wants my land https t co</td>\n",
       "    </tr>\n",
       "    <tr>\n",
       "      <th>6324</th>\n",
       "      <td>@Stretcher @witter @Rexyy @Towel show me a picture of it</td>\n",
       "      <td>1</td>\n",
       "      <td>0.913696</td>\n",
       "      <td>stretcher witter rexyy towel show me a picture of it</td>\n",
       "    </tr>\n",
       "    <tr>\n",
       "      <th>719</th>\n",
       "      <td>you can stab me in the back but I promise you'll be the one bleeding</td>\n",
       "      <td>1</td>\n",
       "      <td>0.912019</td>\n",
       "      <td>you can stab me in the back but i promise you'll be the one bleeding</td>\n",
       "    </tr>\n",
       "    <tr>\n",
       "      <th>7167</th>\n",
       "      <td>#WorldWatchesFerguson #Florida @GovJayNixon @clairecmc How dare you turn our streets into a war zone -a war against CITIZENS?</td>\n",
       "      <td>1</td>\n",
       "      <td>0.910367</td>\n",
       "      <td>florida how dare you turn our streets into a war zone a war against citizens</td>\n",
       "    </tr>\n",
       "    <tr>\n",
       "      <th>4609</th>\n",
       "      <td>My prediction for the Vikings game this Sunday....dont expect a whole lot. Infact I think Zimmer goal is....injury free 1st game</td>\n",
       "      <td>1</td>\n",
       "      <td>0.910104</td>\n",
       "      <td>my for the game this sunday dont expect a whole lot i think goal is injury free 1st game</td>\n",
       "    </tr>\n",
       "    <tr>\n",
       "      <th>1321</th>\n",
       "      <td>@Michael5SOS haha so would you say its so hot your balls are burning off????</td>\n",
       "      <td>1</td>\n",
       "      <td>0.910036</td>\n",
       "      <td>michael5sos haha so would you say its so hot your balls are burning off</td>\n",
       "    </tr>\n",
       "    <tr>\n",
       "      <th>5219</th>\n",
       "      <td>@ThatSabineGirl you get me sis. this planet could do with a huge dose of obliteration.</td>\n",
       "      <td>1</td>\n",
       "      <td>0.905224</td>\n",
       "      <td>you get me sis this planet could do with a huge of obliteration</td>\n",
       "    </tr>\n",
       "    <tr>\n",
       "      <th>6930</th>\n",
       "      <td>@cspan #Prez. Mr. President you are the biggest terrorist and trouble maker in the world. You create terrorist you sponsor terrorist.</td>\n",
       "      <td>1</td>\n",
       "      <td>0.901941</td>\n",
       "      <td>prez mr president you are the biggest terrorist and trouble maker in the world you create terrorist you terrorist</td>\n",
       "    </tr>\n",
       "    <tr>\n",
       "      <th>2811</th>\n",
       "      <td>DISASTER AVERTED: Police kill gunman with Û÷hoax deviceÛª atåÊcinema http://t.co/5NG0FzpVdS</td>\n",
       "      <td>0</td>\n",
       "      <td>0.900182</td>\n",
       "      <td>disaster averted police kill gunman with http t co</td>\n",
       "    </tr>\n",
       "    <tr>\n",
       "      <th>1732</th>\n",
       "      <td>OMG OMG OMG #JustinBieber and #HarryStyles have collided in a nuclear accident at #Cern ^oo^\\n\\n#HarryBeCareful http://t.co/p4huQUNDQi</td>\n",
       "      <td>0</td>\n",
       "      <td>0.899308</td>\n",
       "      <td>omg omg omg justinbieber and have collided in a nuclear accident at harrybecareful http t co</td>\n",
       "    </tr>\n",
       "    <tr>\n",
       "      <th>3850</th>\n",
       "      <td>@gilderoy i wish i was good enough to add flames to my nails im on fire</td>\n",
       "      <td>1</td>\n",
       "      <td>0.897544</td>\n",
       "      <td>i wish i was good enough to add flames to my nails im on fire</td>\n",
       "    </tr>\n",
       "    <tr>\n",
       "      <th>1277</th>\n",
       "      <td>burned 129 calories doing 24 minutes of Walking 3.5 mph brisk pace #myfitnesspal</td>\n",
       "      <td>1</td>\n",
       "      <td>0.895326</td>\n",
       "      <td>burned calories doing 24 minutes of walking 3 5 mph brisk pace myfitnesspal</td>\n",
       "    </tr>\n",
       "  </tbody>\n",
       "</table>\n",
       "</div>"
      ],
      "text/plain": [
       "                                                                                                                                               text  \\\n",
       "4618                                                       CLEARED:incident with injury:I-495  inner loop Exit 31 - MD 97/Georgia Ave Silver Spring   \n",
       "1823                                                @johndcgow heard this few days ago while driving and near crashed the car from laughing to much   \n",
       "167                                        Statistically I'm at more of risk of getting killed by a cop than I am of dying in an airplane accident.   \n",
       "3017              6 Things Getting Caught in a Dust Storm &amp; the Challenging Real Estate Market Have in Common (+ video): http://t.co/jf5Ft5cq9j   \n",
       "974               ?? New Ladies Shoulder Tote #Handbag Faux Leather Hobo Purse Cross Body Bag #Womens http://t.co/zujwUiomb3 http://t.co/iap4LwvqsW   \n",
       "6108                               Do you feel like you are sinking in low self-image? Take the quiz: http://t.co/bJoJVM0pjX http://t.co/wHOc7LHb5F   \n",
       "3806                                          Former Township fire truck being used in Philippines - Langley Times http://t.co/iMiLsFxntf #filipino   \n",
       "4143       @leedsrouge Love what you picked! We're playing WORTH IT by FIFTH HARM/KID INK because of you! Listen &amp; Vote: http://t.co/0wrATkA2jL   \n",
       "2362     7 Christians detained in Zhejiang amid widespread anger over cross removal- over 1200 crosses removed since last yr http://t.co/8PICbkDJM0   \n",
       "2250                                          Why are you deluged with low self-image? Take the quiz: http://t.co/XsPqdOrIqj http://t.co/CQYvFR4UCy   \n",
       "1005                                 'I did another one I did another one. You still ain't done shit about the other one.' Nigga body bagging Meek.   \n",
       "1029       BREAKING: Fairfax County firefighter placed on admin leave amid probe into Facebook post about putting police in 'body bags' dept. says.   \n",
       "2511     Just came back from camping and returned with a new song which gets recorded tomorrow. Can't wait! #Desolation #TheConspiracyTheory #NewEP   \n",
       "4661  @LEDofficial1 As you can imagine we're inundated with requests each week for samples &amp; as much as we'd love to be able to send sweets 1/2   \n",
       "356                                                But if you build an army of 100 dogs and their leader is a lion all dogs will fight like a lion.   \n",
       "2269       Rand Paul's Debate Strategy 'demolish Some other bad ideas out there or point out maybe that there are some em... http://t.co/qzdqRBr4Lh   \n",
       "1625                                                            Growth dries up for BHP Billiton as oil price collapse bites http://t.co/HQoD6v6DnC   \n",
       "4536            #WakeUpFlorida... #Floridians more likely to be killed/injured by a #TrophyHunt killer's gun than by ISIS.  https://t.co/j5In8meXAJ   \n",
       "7552                                                                        Israel wrecked my home. Now it wants my land. \\nhttps://t.co/g0r3ZR1nQj   \n",
       "6324                                                                                       @Stretcher @witter @Rexyy @Towel show me a picture of it   \n",
       "719                                                                            you can stab me in the back but I promise you'll be the one bleeding   \n",
       "7167                  #WorldWatchesFerguson #Florida @GovJayNixon @clairecmc How dare you turn our streets into a war zone -a war against CITIZENS?   \n",
       "4609               My prediction for the Vikings game this Sunday....dont expect a whole lot. Infact I think Zimmer goal is....injury free 1st game   \n",
       "1321                                                                   @Michael5SOS haha so would you say its so hot your balls are burning off????   \n",
       "5219                                                         @ThatSabineGirl you get me sis. this planet could do with a huge dose of obliteration.   \n",
       "6930          @cspan #Prez. Mr. President you are the biggest terrorist and trouble maker in the world. You create terrorist you sponsor terrorist.   \n",
       "2811                                                  DISASTER AVERTED: Police kill gunman with Û÷hoax deviceÛª atåÊcinema http://t.co/5NG0FzpVdS   \n",
       "1732         OMG OMG OMG #JustinBieber and #HarryStyles have collided in a nuclear accident at #Cern ^oo^\\n\\n#HarryBeCareful http://t.co/p4huQUNDQi   \n",
       "3850                                                                        @gilderoy i wish i was good enough to add flames to my nails im on fire   \n",
       "1277                                                               burned 129 calories doing 24 minutes of Walking 3.5 mph brisk pace #myfitnesspal   \n",
       "\n",
       "      target     error  \\\n",
       "4618       0  0.970072   \n",
       "1823       0  0.964125   \n",
       "167        0  0.954907   \n",
       "3017       0  0.952935   \n",
       "974        1  0.948676   \n",
       "6108       1  0.944648   \n",
       "3806       0  0.942627   \n",
       "4143       1  0.940349   \n",
       "2362       0  0.939603   \n",
       "2250       1  0.938211   \n",
       "1005       1  0.933888   \n",
       "1029       0  0.930276   \n",
       "2511       1  0.926090   \n",
       "4661       1  0.922996   \n",
       "356        1  0.919541   \n",
       "2269       1  0.918278   \n",
       "1625       0  0.916541   \n",
       "4536       0  0.914874   \n",
       "7552       1  0.913891   \n",
       "6324       1  0.913696   \n",
       "719        1  0.912019   \n",
       "7167       1  0.910367   \n",
       "4609       1  0.910104   \n",
       "1321       1  0.910036   \n",
       "5219       1  0.905224   \n",
       "6930       1  0.901941   \n",
       "2811       0  0.900182   \n",
       "1732       0  0.899308   \n",
       "3850       1  0.897544   \n",
       "1277       1  0.895326   \n",
       "\n",
       "                                                                                                                        seq  \n",
       "4618                                  cleared incident with injury i 495 inner loop exit 31 md 97 georgia ave silver spring  \n",
       "1823                                   heard this few days ago while driving and near crashed the car from laughing to much  \n",
       "167                               i'm at more of risk of getting killed by a cop than i am of dying in an airplane accident  \n",
       "3017                      6 things getting caught in a dust storm amp the real estate market have in common video http t co  \n",
       "974           new ladies shoulder tote handbag faux leather hobo purse cross body bag womens http t co zujwuiomb3 http t co  \n",
       "6108                                   do you feel like you are sinking in low self image take the quiz http t co http t co  \n",
       "3806                                           former township fire truck being used in philippines langley times http t co  \n",
       "4143  love what you picked we're playing worth it by fifth harm kid ink because of you listen amp vote http t co 0wratka2jl  \n",
       "2362    7 christians detained in amid widespread anger over cross removal over 1200 crosses removed since last yr http t co  \n",
       "2250                                              why are you deluged with low self image take the quiz http t co http t co  \n",
       "1005           'i did another one i did another one you still ain't done shit about the other one ' nigga body bagging meek  \n",
       "1029       breaking county firefighter on admin leave amid probe into facebook post about putting police in 'body dept says  \n",
       "2511                     just came back from camping and with a new song which gets recorded tomorrow can't wait desolation  \n",
       "4661                  as you can imagine we're inundated with each week for amp as much as we'd love to be able to send 1 2  \n",
       "356                         but if you build an army of 100 dogs and their leader is a lion all dogs will fight like a lion  \n",
       "2269           debate strategy 'demolish some other bad ideas out there or point out maybe that there are some em http t co  \n",
       "1625                                                                    growth up for as oil price collapse bites http t co  \n",
       "4536                                                      more likely to be killed injured by a gun than by isis https t co  \n",
       "7552                                                                 israel wrecked my home now it wants my land https t co  \n",
       "6324                                                                   stretcher witter rexyy towel show me a picture of it  \n",
       "719                                                    you can stab me in the back but i promise you'll be the one bleeding  \n",
       "7167                                           florida how dare you turn our streets into a war zone a war against citizens  \n",
       "4609                               my for the game this sunday dont expect a whole lot i think goal is injury free 1st game  \n",
       "1321                                                michael5sos haha so would you say its so hot your balls are burning off  \n",
       "5219                                                        you get me sis this planet could do with a huge of obliteration  \n",
       "6930      prez mr president you are the biggest terrorist and trouble maker in the world you create terrorist you terrorist  \n",
       "2811                                                                     disaster averted police kill gunman with http t co  \n",
       "1732                           omg omg omg justinbieber and have collided in a nuclear accident at harrybecareful http t co  \n",
       "3850                                                          i wish i was good enough to add flames to my nails im on fire  \n",
       "1277                                            burned calories doing 24 minutes of walking 3 5 mph brisk pace myfitnesspal  "
      ]
     },
     "execution_count": 14,
     "metadata": {},
     "output_type": "execute_result"
    }
   ],
   "source": [
    "pd.set_option('max_colwidth', 500)\n",
    "y_hat = model.predict(x_valid, batch_size=512)\n",
    "df_valid['error'] = np.abs(y_valid.reshape(-1) - y_hat.reshape(-1))\n",
    "df_valid['seq'] = tokenizer.sequences_to_texts(x_valid)\n",
    "df_valid.sort_values('error', ascending=False).head(30)"
   ]
  }
 ],
 "metadata": {
  "kernelspec": {
   "display_name": "Python 3",
   "language": "python",
   "name": "python3"
  },
  "language_info": {
   "codemirror_mode": {
    "name": "ipython",
    "version": 3
   },
   "file_extension": ".py",
   "mimetype": "text/x-python",
   "name": "python",
   "nbconvert_exporter": "python",
   "pygments_lexer": "ipython3",
   "version": "3.7.5"
  }
 },
 "nbformat": 4,
 "nbformat_minor": 4
}
